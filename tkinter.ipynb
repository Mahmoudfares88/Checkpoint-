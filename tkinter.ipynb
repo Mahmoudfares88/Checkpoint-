{
 "cells": [
  {
   "cell_type": "code",
   "execution_count": 1,
   "id": "f1995c4a",
   "metadata": {},
   "outputs": [
    {
     "name": "stdout",
     "output_type": "stream",
     "text": [
      "Requirement already satisfied: Pillow in c:\\users\\ahmed\\anaconda3\\lib\\site-packages (9.2.0)\n",
      "Note: you may need to restart the kernel to use updated packages.\n"
     ]
    }
   ],
   "source": [
    "pip install Pillow"
   ]
  },
  {
   "cell_type": "code",
   "execution_count": 1,
   "id": "b05350c5",
   "metadata": {},
   "outputs": [],
   "source": [
    "import tkinter as tk\n",
    "import datetime\n",
    "from PIL import Image, ImageTk"
   ]
  },
  {
   "cell_type": "code",
   "execution_count": 60,
   "id": "b7ec0ccf",
   "metadata": {},
   "outputs": [],
   "source": [
    "root = tk.Tk()\n",
    "root.title('Temprature converter')\n",
    "root.geometry(\"360x360\")\n",
    "root.resizable(False,False)\n",
    "bg_image = Image.open(\"weather-icons-collection_1167-124.jpg\")\n",
    "bg = ImageTk.PhotoImage(bg_image)\n",
    "background_label = tk.Label(root, image=bg)\n",
    "background_label.place(x=0, y=0)\n",
    "label1 = tk.Label(root, text = \"Hello sir,\", background = \"white\")\n",
    "def fah_to_cel():\n",
    "    x = float(entry.get())\n",
    "    result = round(((x - 32) * (5/9)),2)\n",
    "    label2 = tk.Label(root, text = result, width = 15,background = \"white\" )\n",
    "    label2.place(x=120,y=170)\n",
    "now = datetime.datetime.now()\n",
    "hour = now.hour\n",
    "if hour < 12:\n",
    "    greeting = tk.Label(root, text = \"good morning!\",background = \"white\")\n",
    "elif hour < 18:\n",
    "    greeting = tk.Label(root, text = \"good afternoon!\",background = \"white\")\n",
    "else:\n",
    "    greeting = greeting = tk.Label(root, text = \"good evening!\",background = \"white\")\n",
    "button = tk.Button(text=\"Convert\",width=8,height=4,bg=\"red\",fg=\"white\", command= fah_to_cel)\n",
    "button.place(x=150,y=260)\n",
    "entry = tk.Entry(root)\n",
    "entry.place(x=120,y=150)\n",
    "label3 = tk.Label(root, text = \"This application converts temprature from fahrenheit to celsius\", background = \"white\")\n",
    "lbl_tempf = tk.Label(root, text=\"\\N{DEGREE FAHRENHEIT}\")\n",
    "lbl_tempf.place(x=230,y=150)\n",
    "lbl_tempc = tk.Label(root, text=\"\\N{DEGREE CELSIUS}\")\n",
    "lbl_tempc.place(x=230,y=170)\n",
    "\n",
    "\n",
    "label1.place(x=110,y=2)\n",
    "greeting.place(x=159,y=2)\n",
    "label3.place(x=10,y=90)\n",
    "\n",
    "\n",
    "root.mainloop()"
   ]
  },
  {
   "cell_type": "code",
   "execution_count": null,
   "id": "8fe19743",
   "metadata": {},
   "outputs": [],
   "source": []
  }
 ],
 "metadata": {
  "kernelspec": {
   "display_name": "Python 3 (ipykernel)",
   "language": "python",
   "name": "python3"
  },
  "language_info": {
   "codemirror_mode": {
    "name": "ipython",
    "version": 3
   },
   "file_extension": ".py",
   "mimetype": "text/x-python",
   "name": "python",
   "nbconvert_exporter": "python",
   "pygments_lexer": "ipython3",
   "version": "3.9.13"
  }
 },
 "nbformat": 4,
 "nbformat_minor": 5
}
