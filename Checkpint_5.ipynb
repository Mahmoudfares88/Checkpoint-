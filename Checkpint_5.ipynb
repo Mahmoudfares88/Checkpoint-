{
 "cells": [
  {
   "cell_type": "code",
   "execution_count": 44,
   "id": "e6fe392e",
   "metadata": {},
   "outputs": [],
   "source": [
    "class Point3D :\n",
    "    def __init__(self,x,y,z):\n",
    "        self.x = x\n",
    "        self.y = y\n",
    "        self.z = z\n",
    "        print(self.x,self.y,self.z)"
   ]
  },
  {
   "cell_type": "code",
   "execution_count": 45,
   "id": "5186b1e6",
   "metadata": {},
   "outputs": [
    {
     "name": "stdout",
     "output_type": "stream",
     "text": [
      "1 2 3\n"
     ]
    }
   ],
   "source": [
    "my_point = Point3D(1,2,3)"
   ]
  },
  {
   "cell_type": "code",
   "execution_count": 1,
   "id": "f8255f49",
   "metadata": {},
   "outputs": [],
   "source": [
    "class rectangle:\n",
    "    def __init__(self , x, y):\n",
    "        self.x = x\n",
    "        self.y = y\n",
    "    def area(self):\n",
    "        print(\"Area =\" ,self.x * self.y)\n",
    "    def per(self):\n",
    "        print(\"Perimeter =\" ,2 * (self.x + self.y))\n",
    "       \n",
    "        "
   ]
  },
  {
   "cell_type": "code",
   "execution_count": 2,
   "id": "a9b808bb",
   "metadata": {},
   "outputs": [
    {
     "name": "stdout",
     "output_type": "stream",
     "text": [
      "Area = 12\n",
      "Perimeter = 14\n"
     ]
    }
   ],
   "source": [
    "rectangle_1 = rectangle(3,4)\n",
    "rectangle_1.area()\n",
    "rectangle_1.per()\n"
   ]
  },
  {
   "cell_type": "code",
   "execution_count": 20,
   "id": "336e847d",
   "metadata": {},
   "outputs": [],
   "source": [
    "from math import pi\n",
    "from math import sqrt\n",
    "class Circle:\n",
    "    def __init__(self, centerx, centery, radius):\n",
    "        self.centerx = centerx\n",
    "        self.centery = centery\n",
    "        self.radius = radius\n",
    "    def area(self):\n",
    "        return pi * (self.radius**2)\n",
    "    def per(self):\n",
    "        return 2 * pi * self.radius\n",
    "    def is_inside(self):\n",
    "        x = float(input(\"Enter your x coordinate \"))\n",
    "        y = float(input(\"Enter your y coordinate \"))\n",
    "        d = sqrt((self.centerx - x)**2 + (self.centery - y)**2)\n",
    "        if d < self.radius:\n",
    "            return True\n",
    "        elif d == self.radius:\n",
    "            print(\"Point is on the circle\")\n",
    "        else:\n",
    "            return False\n",
    "        \n",
    "        "
   ]
  },
  {
   "cell_type": "code",
   "execution_count": 21,
   "id": "b667f7b3",
   "metadata": {},
   "outputs": [
    {
     "data": {
      "text/plain": [
       "18.84955592153876"
      ]
     },
     "execution_count": 21,
     "metadata": {},
     "output_type": "execute_result"
    }
   ],
   "source": [
    "Circle_1 = Circle(5,5,3)\n",
    "Circle_1.per()"
   ]
  },
  {
   "cell_type": "code",
   "execution_count": 23,
   "id": "e421c966",
   "metadata": {},
   "outputs": [
    {
     "name": "stdout",
     "output_type": "stream",
     "text": [
      "Enter your x coordinate 5\n",
      "Enter your y coordinate 3\n"
     ]
    },
    {
     "data": {
      "text/plain": [
       "True"
      ]
     },
     "execution_count": 23,
     "metadata": {},
     "output_type": "execute_result"
    }
   ],
   "source": [
    "Circle_1.is_inside()"
   ]
  },
  {
   "cell_type": "code",
   "execution_count": 24,
   "id": "a22a784d",
   "metadata": {},
   "outputs": [
    {
     "data": {
      "text/plain": [
       "28.274333882308138"
      ]
     },
     "execution_count": 24,
     "metadata": {},
     "output_type": "execute_result"
    }
   ],
   "source": [
    "Circle_1.area()"
   ]
  },
  {
   "cell_type": "code",
   "execution_count": 41,
   "id": "c58ef3af",
   "metadata": {},
   "outputs": [],
   "source": [
    "class Bank:\n",
    "    def __init__(self, Name, Balance):\n",
    "        self.name = Name\n",
    "        self.balance = Balance\n",
    "    def deposit(self, money):\n",
    "        self.balance += money\n",
    "        print(\"Your new balance is \", self.balance)\n",
    "    def withdraw(self, money):\n",
    "        self.balance -= money\n",
    "        print(\"Your new balance is \", self.balance)\n",
    "    "
   ]
  },
  {
   "cell_type": "code",
   "execution_count": 42,
   "id": "545e1ab4",
   "metadata": {},
   "outputs": [
    {
     "name": "stdout",
     "output_type": "stream",
     "text": [
      "Your new balance is  5520\n"
     ]
    }
   ],
   "source": [
    "customer1 = Bank(\"Mahmoud\", 5000)\n",
    "customer1.deposit(520)\n",
    "\n",
    "\n"
   ]
  },
  {
   "cell_type": "code",
   "execution_count": 43,
   "id": "18896415",
   "metadata": {},
   "outputs": [
    {
     "name": "stdout",
     "output_type": "stream",
     "text": [
      "Your new balance is  3520\n"
     ]
    }
   ],
   "source": [
    "customer1.withdraw(2000)"
   ]
  },
  {
   "cell_type": "code",
   "execution_count": null,
   "id": "5bcc3c92",
   "metadata": {},
   "outputs": [],
   "source": []
  }
 ],
 "metadata": {
  "kernelspec": {
   "display_name": "Python 3 (ipykernel)",
   "language": "python",
   "name": "python3"
  },
  "language_info": {
   "codemirror_mode": {
    "name": "ipython",
    "version": 3
   },
   "file_extension": ".py",
   "mimetype": "text/x-python",
   "name": "python",
   "nbconvert_exporter": "python",
   "pygments_lexer": "ipython3",
   "version": "3.9.13"
  }
 },
 "nbformat": 4,
 "nbformat_minor": 5
}
