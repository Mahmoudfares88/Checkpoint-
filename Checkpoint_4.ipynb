{
 "cells": [
  {
   "cell_type": "code",
   "execution_count": 20,
   "id": "865eb97c",
   "metadata": {},
   "outputs": [],
   "source": [
    "def calculator(x,y):\n",
    "    operator = input(\"Choose the mathematical operation (+ , - , * , /)  \")\n",
    "    if operator == '+' :\n",
    "        return x + y\n",
    "    elif operator == '-':\n",
    "        return x - y\n",
    "    elif operator == '*' :\n",
    "        return x * y\n",
    "    elif operator == '/' and y == 0:\n",
    "        print(\"Can't divide a number by zero\")\n",
    "    elif operator == '/' and y != 0:\n",
    "            return x / y\n",
    "    else:\n",
    "        print(\"choose a correct operator\")\n",
    "            "
   ]
  },
  {
   "cell_type": "code",
   "execution_count": 14,
   "id": "a3d6bb7a",
   "metadata": {},
   "outputs": [
    {
     "name": "stdout",
     "output_type": "stream",
     "text": [
      "Choose the mathematical operation (+ , - , * , /)+\n"
     ]
    },
    {
     "data": {
      "text/plain": [
       "15"
      ]
     },
     "execution_count": 14,
     "metadata": {},
     "output_type": "execute_result"
    }
   ],
   "source": [
    "calculator(5,10)"
   ]
  },
  {
   "cell_type": "code",
   "execution_count": 15,
   "id": "6d9bbd21",
   "metadata": {},
   "outputs": [
    {
     "name": "stdout",
     "output_type": "stream",
     "text": [
      "Choose the mathematical operation (+ , - , * , /)/\n",
      "Can't divide a number by zero\n"
     ]
    }
   ],
   "source": [
    "calculator(10,0)"
   ]
  },
  {
   "cell_type": "code",
   "execution_count": 16,
   "id": "59f361ca",
   "metadata": {},
   "outputs": [
    {
     "name": "stdout",
     "output_type": "stream",
     "text": [
      "Choose the mathematical operation (+ , - , * , /)l\n",
      "choose a correct operator\n"
     ]
    }
   ],
   "source": [
    "calculator(10,5)"
   ]
  },
  {
   "cell_type": "code",
   "execution_count": 13,
   "id": "ee82c380",
   "metadata": {},
   "outputs": [
    {
     "name": "stdout",
     "output_type": "stream",
     "text": [
      "Choose the mathematical operation (+ , - , * , /)*\n"
     ]
    },
    {
     "data": {
      "text/plain": [
       "48"
      ]
     },
     "execution_count": 13,
     "metadata": {},
     "output_type": "execute_result"
    }
   ],
   "source": [
    "calculator(8,6)"
   ]
  },
  {
   "cell_type": "code",
   "execution_count": 21,
   "id": "7fccfee5",
   "metadata": {},
   "outputs": [
    {
     "name": "stdout",
     "output_type": "stream",
     "text": [
      "Choose the mathematical operation (+ , - , * , /)  /\n"
     ]
    },
    {
     "data": {
      "text/plain": [
       "2.0"
      ]
     },
     "execution_count": 21,
     "metadata": {},
     "output_type": "execute_result"
    }
   ],
   "source": [
    "calculator(4,2)"
   ]
  },
  {
   "cell_type": "code",
   "execution_count": null,
   "id": "514fed4f",
   "metadata": {},
   "outputs": [],
   "source": []
  }
 ],
 "metadata": {
  "kernelspec": {
   "display_name": "Python 3 (ipykernel)",
   "language": "python",
   "name": "python3"
  },
  "language_info": {
   "codemirror_mode": {
    "name": "ipython",
    "version": 3
   },
   "file_extension": ".py",
   "mimetype": "text/x-python",
   "name": "python",
   "nbconvert_exporter": "python",
   "pygments_lexer": "ipython3",
   "version": "3.9.13"
  }
 },
 "nbformat": 4,
 "nbformat_minor": 5
}
