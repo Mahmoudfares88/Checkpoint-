{
 "cells": [
  {
   "cell_type": "code",
   "execution_count": 1,
   "id": "83b9c0c7",
   "metadata": {},
   "outputs": [],
   "source": [
    "import numpy as np"
   ]
  },
  {
   "cell_type": "code",
   "execution_count": 2,
   "id": "f8ae204d",
   "metadata": {},
   "outputs": [],
   "source": [
    "from tabulate import tabulate"
   ]
  },
  {
   "cell_type": "code",
   "execution_count": 3,
   "id": "e8a8f6f0",
   "metadata": {},
   "outputs": [
    {
     "name": "stdout",
     "output_type": "stream",
     "text": [
      "Enter the number of students  2\n",
      "Enter the number of subjects  2\n",
      "enter marks of the student 1\n",
      "subject 1 20\n",
      "subject 2 20\n",
      "enter marks of the student 2\n",
      "subject 1 30\n",
      "subject 2 30\n"
     ]
    }
   ],
   "source": [
    "Num_students = int(input(\"Enter the number of students  \"))\n",
    "Num_subjects = int(input(\"Enter the number of subjects  \"))\n",
    "marks = np.random.randint(0,10 ,size=(Num_students, Num_subjects))\n",
    "for i in range(Num_students):\n",
    "    print(f\"enter marks of the student {i+1}\")\n",
    "    for j in range(Num_subjects):\n",
    "          marks[i,j]= int(input(f\"subject {j + 1} \"))\n",
    "    \n"
   ]
  },
  {
   "cell_type": "code",
   "execution_count": 8,
   "id": "ed4d7fad",
   "metadata": {},
   "outputs": [
    {
     "name": "stdout",
     "output_type": "stream",
     "text": [
      "+---------+-----------+\n",
      "| student |  subject  |\n",
      "+=========+===========+\n",
      "| 2       | [[20 20]  |\n",
      "|         |  [30 30]] |\n",
      "+---------+-----------+\n"
     ]
    }
   ],
   "source": [
    "from texttable import Texttable\n",
    "t = Texttable()\n",
    "t.add_rows([['student', 'subject'], [Num_students,marks]])\n",
    "print(t.draw())"
   ]
  },
  {
   "cell_type": "code",
   "execution_count": null,
   "id": "77adf026",
   "metadata": {},
   "outputs": [],
   "source": [
    "pip install texttable"
   ]
  },
  {
   "cell_type": "code",
   "execution_count": null,
   "id": "d68c3250",
   "metadata": {},
   "outputs": [],
   "source": []
  }
 ],
 "metadata": {
  "kernelspec": {
   "display_name": "Python 3 (ipykernel)",
   "language": "python",
   "name": "python3"
  },
  "language_info": {
   "codemirror_mode": {
    "name": "ipython",
    "version": 3
   },
   "file_extension": ".py",
   "mimetype": "text/x-python",
   "name": "python",
   "nbconvert_exporter": "python",
   "pygments_lexer": "ipython3",
   "version": "3.9.13"
  }
 },
 "nbformat": 4,
 "nbformat_minor": 5
}
