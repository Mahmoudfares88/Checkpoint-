{
 "cells": [
  {
   "cell_type": "code",
   "execution_count": null,
   "id": "c1251948",
   "metadata": {},
   "outputs": [],
   "source": [
    "#Question 1\n",
    "first_name = input(\"Whats your first name?  \")\n",
    "last_name = input(\"Whats your last name?  \")\n",
    "print(last_name + \" \"+ first_name)"
   ]
  },
  {
   "cell_type": "code",
   "execution_count": null,
   "id": "126a6eea",
   "metadata": {},
   "outputs": [],
   "source": [
    "#Question 2\n",
    "n = int(input(\"n= \"))\n",
    "nstr = str(n)\n",
    "n1 = nstr + nstr\n",
    "n2 = nstr + nstr +nstr\n",
    "sum = n + int(n1) + int(n2)\n",
    "print(sum)\n",
    "\n"
   ]
  },
  {
   "cell_type": "code",
   "execution_count": null,
   "id": "c810c74b",
   "metadata": {},
   "outputs": [],
   "source": [
    "#Question 3\n",
    "number = int(input(\"Enter a number= \"))\n",
    "if number % 2 ==0:\n",
    "    print(\"Your number is even!\")\n",
    "else: \n",
    "    print(\"Your number is odd!\")\n",
    "    \n",
    "   \n"
   ]
  },
  {
   "cell_type": "code",
   "execution_count": null,
   "id": "eda0c80d",
   "metadata": {},
   "outputs": [],
   "source": [
    "#Question 4\n",
    "for n in range(2000,3201):\n",
    "    if n % 7 == 0 and n % 5 != 0:\n",
    "        print([n],end= \" ,\")\n"
   ]
  },
  {
   "cell_type": "code",
   "execution_count": null,
   "id": "6290d4fd",
   "metadata": {},
   "outputs": [],
   "source": [
    "#Question 5\n",
    "n = int(input(\"Enter a number= \"))\n",
    "factorial = 1\n",
    "if n < 0:\n",
    "    print(\"factorial is for psoositive numbers only\")\n",
    "elif n == 0:\n",
    "    print(\"The factorial of zero is = 1\")\n",
    "else:\n",
    "    for i in range(1, n+1):\n",
    "        factorial = factorial*i\n",
    "    print(factorial)\n",
    "\n",
    "\n"
   ]
  },
  {
   "cell_type": "code",
   "execution_count": 9,
   "id": "e0ffb354",
   "metadata": {},
   "outputs": [
    {
     "name": "stdout",
     "output_type": "stream",
     "text": [
      "Insert your text =  hello team\n",
      "hlota "
     ]
    }
   ],
   "source": [
    "#Question 6\n",
    "msg = input(\"Insert your text =  \")\n",
    "odd_letters = \"\"\n",
    "for i in range(len(msg)):\n",
    "    if i % 2 == 0:\n",
    "        odd_letters = odd_letters + msg[i]\n",
    "print(odd_letters,end=\" \")\n"
   ]
  },
  {
   "cell_type": "code",
   "execution_count": null,
   "id": "a4f8aa4f",
   "metadata": {},
   "outputs": [],
   "source": [
    "#Question 7\n",
    "price = int(input(\"Enter price = \"))\n",
    "if price >= 500:\n",
    "    discount = price* 0.5\n",
    "elif price in range(200,501):\n",
    "    discount = price * 0.3\n",
    "else:\n",
    "    discount = price * 0.1\n",
    "print(\"Discount =\", discount)"
   ]
  },
  {
   "cell_type": "code",
   "execution_count": null,
   "id": "75688b61",
   "metadata": {},
   "outputs": [],
   "source": []
  }
 ],
 "metadata": {
  "kernelspec": {
   "display_name": "Python 3 (ipykernel)",
   "language": "python",
   "name": "python3"
  },
  "language_info": {
   "codemirror_mode": {
    "name": "ipython",
    "version": 3
   },
   "file_extension": ".py",
   "mimetype": "text/x-python",
   "name": "python",
   "nbconvert_exporter": "python",
   "pygments_lexer": "ipython3",
   "version": "3.9.13"
  }
 },
 "nbformat": 4,
 "nbformat_minor": 5
}
