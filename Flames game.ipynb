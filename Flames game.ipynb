{
 "cells": [
  {
   "cell_type": "code",
   "execution_count": 17,
   "id": "cd9d0286",
   "metadata": {},
   "outputs": [
    {
     "name": "stdout",
     "output_type": "stream",
     "text": [
      "Please enter the first name mahmoud\n",
      "Please enter the second nameahmed\n",
      "checking M\n",
      "found M\n",
      "replaced M\n",
      "checking A\n",
      "found A\n",
      "replaced A\n",
      "checking H\n",
      "found H\n",
      "replaced H\n",
      "checking M\n",
      "checking O\n",
      "checking U\n",
      "checking D\n",
      "found D\n",
      "replaced D\n",
      "['_', '_', '_', 'M', 'O', 'U', '_']\n",
      "['_', '_', '_', 'E', '_']\n",
      "4\n",
      "['S']\n"
     ]
    }
   ],
   "source": [
    "name1 = input(\"Please enter the first name \")\n",
    "name2 = input(\"Please enter the second name\")\n",
    "name1list = list(name1.upper())\n",
    "name2list = list(name2.upper())\n",
    "for i in name1list:\n",
    "    print('checking',i)\n",
    "    if i in name2list:\n",
    "        print('found',i)\n",
    "        idx = name1list.index(i)\n",
    "        name1list[idx] = '_'\n",
    "        idx = name2list.index(i)\n",
    "        name2list[idx] = '_'\n",
    "        print(\"replaced\",i)\n",
    "print(name1list)\n",
    "print(name2list)\n",
    "names = name1list + name2list\n",
    "count = 0\n",
    "for i in names:\n",
    "    if i != \"\" and i != \"_\":\n",
    "        count += 1\n",
    "print(count)\n",
    "\n",
    "f = list('FLAMES')\n",
    "index = 0\n",
    "while len(f) >1:   \n",
    "    for i in range(count):\n",
    "        index+=1\n",
    "        if index > len(f):\n",
    "            index = 1\n",
    "    f.remove(f[index-1])\n",
    "print(f)"
   ]
  },
  {
   "cell_type": "code",
   "execution_count": null,
   "id": "ae652a3b",
   "metadata": {},
   "outputs": [],
   "source": []
  }
 ],
 "metadata": {
  "kernelspec": {
   "display_name": "Python 3 (ipykernel)",
   "language": "python",
   "name": "python3"
  },
  "language_info": {
   "codemirror_mode": {
    "name": "ipython",
    "version": 3
   },
   "file_extension": ".py",
   "mimetype": "text/x-python",
   "name": "python",
   "nbconvert_exporter": "python",
   "pygments_lexer": "ipython3",
   "version": "3.9.13"
  }
 },
 "nbformat": 4,
 "nbformat_minor": 5
}
