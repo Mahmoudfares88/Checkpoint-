{
 "cells": [
  {
   "cell_type": "code",
   "execution_count": 3,
   "id": "38199490",
   "metadata": {},
   "outputs": [
    {
     "name": "stdout",
     "output_type": "stream",
     "text": [
      "Whats your name ?  Mahmoud\n",
      "What is the name of the item you purchased?  Book\n",
      "What was the price of the item?  25\n",
      "How many of the item did you purchase?  3\n",
      "What is the tax rate(%) for your location?  14\n",
      "Mahmouds receipt\n",
      "Item:    Book\n",
      "Quantity:    3\n",
      "Price per item:    25\n",
      "Subtotal: 75\n",
      "Tax: 10.500000000000002\n",
      "Total: 85.5\n"
     ]
    }
   ],
   "source": [
    "name = input('Whats your name ?  ')\n",
    "item = input('What is the name of the item you purchased?  ')\n",
    "price = input('What was the price of the item?  ')\n",
    "count = input('How many of the item did you purchase?  ')\n",
    "tax = input('What is the tax rate(%) for your location?  ')\n",
    "subtotal = int(price) * int(count)\n",
    "tax_rate = int(tax)/100\n",
    "tax_total = tax_rate * subtotal\n",
    "total= tax_total + subtotal\n",
    "print(        name + 's '+   'receipt'     )\n",
    "print('Item:'+ '    ' + item)\n",
    "print('Quantity:'+'    '+ count)\n",
    "print('Price per item:'+'    '+ price)\n",
    "print('Subtotal:',     subtotal)\n",
    "print('Tax:',       tax_total)\n",
    "print('Total:', total )\n"
   ]
  },
  {
   "cell_type": "code",
   "execution_count": null,
   "id": "81f2b103",
   "metadata": {},
   "outputs": [],
   "source": []
  },
  {
   "cell_type": "code",
   "execution_count": null,
   "id": "664af88b",
   "metadata": {},
   "outputs": [],
   "source": []
  },
  {
   "cell_type": "code",
   "execution_count": null,
   "id": "6246d0e6",
   "metadata": {},
   "outputs": [],
   "source": []
  }
 ],
 "metadata": {
  "kernelspec": {
   "display_name": "Python 3 (ipykernel)",
   "language": "python",
   "name": "python3"
  },
  "language_info": {
   "codemirror_mode": {
    "name": "ipython",
    "version": 3
   },
   "file_extension": ".py",
   "mimetype": "text/x-python",
   "name": "python",
   "nbconvert_exporter": "python",
   "pygments_lexer": "ipython3",
   "version": "3.9.13"
  }
 },
 "nbformat": 4,
 "nbformat_minor": 5
}
