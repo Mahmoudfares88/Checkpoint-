{
 "cells": [
  {
   "cell_type": "code",
   "execution_count": 16,
   "id": "47668b80",
   "metadata": {},
   "outputs": [
    {
     "name": "stdout",
     "output_type": "stream",
     "text": [
      "36\n"
     ]
    }
   ],
   "source": [
    "#Question 1\n",
    "import numpy as np\n",
    "def multiply_list(list):\n",
    "    return np.prod(list)  \n",
    "lst = [2,3,6]\n",
    "multiply_list(lst)\n",
    "print(multiply_list(lst))\n"
   ]
  },
  {
   "cell_type": "code",
   "execution_count": 57,
   "id": "55504101",
   "metadata": {},
   "outputs": [
    {
     "data": {
      "text/plain": [
       "[(2, 1), (1, 2), (2, 3), (4, 4), (2, 5)]"
      ]
     },
     "execution_count": 57,
     "metadata": {},
     "output_type": "execute_result"
    }
   ],
   "source": [
    "#Question 2\n",
    "listt = [(2, 5), (1, 2), (4, 4), (2, 3), (2, 1)]\n",
    "listt.sort(key = lambda e:e[1])\n",
    "listt\n"
   ]
  },
  {
   "cell_type": "code",
   "execution_count": 108,
   "id": "3c0c4fc5",
   "metadata": {},
   "outputs": [],
   "source": [
    "#Question 3\n",
    "d1 = {'a': 100, 'b': 200, 'c':300}\n",
    "\n",
    "d2 = {'a': 300, 'b': 200, 'd':400}\n",
    "\n",
    "d = {}\n",
    "for a,b in d1.items():\n",
    "    for x,y in d2.items():\n",
    "        if a == x:\n",
    "            d = b + y\n",
    "    d\n",
    "        \n",
    "\n",
    "    "
   ]
  },
  {
   "cell_type": "code",
   "execution_count": 100,
   "id": "eb990859",
   "metadata": {},
   "outputs": [
    {
     "name": "stdout",
     "output_type": "stream",
     "text": [
      "enter an integer: 8\n",
      "{'Key': 1, 'value': 1}\n",
      "{'Key': 2, 'value': 4}\n",
      "{'Key': 3, 'value': 9}\n",
      "{'Key': 4, 'value': 16}\n",
      "{'Key': 5, 'value': 25}\n",
      "{'Key': 6, 'value': 36}\n",
      "{'Key': 7, 'value': 49}\n",
      "{'Key': 8, 'value': 64}\n"
     ]
    }
   ],
   "source": [
    "#Question 4\n",
    "i=int(input('enter an integer: '))\n",
    "for i in range(1,i+1):\n",
    "    d = { 'Key': i , 'value': i*i}\n",
    "    print(d)"
   ]
  },
  {
   "cell_type": "code",
   "execution_count": 81,
   "id": "187eebef",
   "metadata": {},
   "outputs": [
    {
     "data": {
      "text/plain": [
       "[('item3', '24.5'), ('item2', '15.10'), ('item1', '12.20')]"
      ]
     },
     "execution_count": 81,
     "metadata": {},
     "output_type": "execute_result"
    }
   ],
   "source": [
    "#Question 5\n",
    "lst_1= [('item1', '12.20'), ('item2', '15.10'), ('item3', '24.5')]\n",
    "lst_1.sort(key = lambda e:e[1], reverse = True)\n",
    "lst_1"
   ]
  },
  {
   "cell_type": "code",
   "execution_count": 89,
   "id": "7c27a233",
   "metadata": {},
   "outputs": [
    {
     "name": "stdout",
     "output_type": "stream",
     "text": [
      "0\n",
      "1\n",
      "2\n",
      "3\n",
      "4\n"
     ]
    }
   ],
   "source": [
    "#Question 6\n",
    "s = {0, 1, 2, 3, 4}\n",
    "for number in s:\n",
    "    print(number)\n",
    "    \n",
    "s.add(11)\n",
    "s.remove(3)"
   ]
  },
  {
   "cell_type": "code",
   "execution_count": 90,
   "id": "0a5ced41",
   "metadata": {},
   "outputs": [
    {
     "data": {
      "text/plain": [
       "{0, 1, 2, 4, 11}"
      ]
     },
     "execution_count": 90,
     "metadata": {},
     "output_type": "execute_result"
    }
   ],
   "source": [
    "s"
   ]
  },
  {
   "cell_type": "code",
   "execution_count": null,
   "id": "f3380a26",
   "metadata": {},
   "outputs": [],
   "source": []
  }
 ],
 "metadata": {
  "kernelspec": {
   "display_name": "Python 3 (ipykernel)",
   "language": "python",
   "name": "python3"
  },
  "language_info": {
   "codemirror_mode": {
    "name": "ipython",
    "version": 3
   },
   "file_extension": ".py",
   "mimetype": "text/x-python",
   "name": "python",
   "nbconvert_exporter": "python",
   "pygments_lexer": "ipython3",
   "version": "3.9.13"
  }
 },
 "nbformat": 4,
 "nbformat_minor": 5
}
