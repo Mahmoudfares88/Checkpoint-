{
 "cells": [
  {
   "cell_type": "code",
   "execution_count": 12,
   "id": "28d8ef5e",
   "metadata": {},
   "outputs": [
    {
     "name": "stdout",
     "output_type": "stream",
     "text": [
      "What is Python language?                                                \n",
      "Python is a widely used high-level, general-purpose, interpreted, dynamic programming language.Its design philosophy emphasizes code readability, and its syntax allows programmers to express concepts in fewer lines of code than possible in \n",
      "languages such as C++ or Java. \n",
      "Python supports multiple programming paradigms, including object-oriented, imperative and functional programming or procedural styles. It features a dynamic type system and automatic memory management and has a large and comprehensive standard library.The best way we learn anything is by practice and exercise questions. We  have started this section for those (beginner to intermediate) who are familiar with Python.\n"
     ]
    }
   ],
   "source": [
    "##Question 1\n",
    "file_name = 'python.txt'\n",
    "with open(file_name, 'r') as file:\n",
    "    file_contents = file.read()\n",
    "    print(file_contents)\n",
    "    "
   ]
  },
  {
   "cell_type": "code",
   "execution_count": 2,
   "id": "f70fb855",
   "metadata": {},
   "outputs": [
    {
     "name": "stdout",
     "output_type": "stream",
     "text": [
      "What is Python language?                                                \n",
      "\n",
      "Python is a widely used high-level, general-purpose, interpreted, dynamic programming language.Its design philosophy emphasizes code readability, and its syntax allows programmers to express concepts in fewer lines of code than possible in \n",
      "\n"
     ]
    }
   ],
   "source": [
    "##Question 2\n",
    "lines = 2\n",
    "with open(file_name, 'r') as file:\n",
    "    for i in range(lines):\n",
    "        line = file.readline()\n",
    "        print(line)"
   ]
  },
  {
   "cell_type": "code",
   "execution_count": 3,
   "id": "f41f08ce",
   "metadata": {},
   "outputs": [
    {
     "data": {
      "text/plain": [
       "['What is Python language?                                                \\n',\n",
       " 'Python is a widely used high-level, general-purpose, interpreted, dynamic programming language.Its design philosophy emphasizes code readability, and its syntax allows programmers to express concepts in fewer lines of code than possible in \\n',\n",
       " 'languages such as C++ or Java. \\n',\n",
       " 'Python supports multiple programming paradigms, including object-oriented, imperative and functional programming or procedural styles. It features a dynamic type system and automatic memory management and has a large and comprehensive standard library.The best way we learn anything is by practice and exercise questions. We  have started this section for those (beginner to intermediate) who are familiar with Python.']"
      ]
     },
     "execution_count": 3,
     "metadata": {},
     "output_type": "execute_result"
    }
   ],
   "source": [
    "f = open(\"python.txt\",'r',encoding = 'utf-8')\n",
    "f.readlines(-1)"
   ]
  },
  {
   "cell_type": "code",
   "execution_count": 11,
   "id": "89d2346a",
   "metadata": {},
   "outputs": [
    {
     "name": "stdout",
     "output_type": "stream",
     "text": [
      "What is Python language?                                                \n"
     ]
    }
   ],
   "source": [
    "filename = 'python.txt'\n",
    "n = 2\n",
    "with open(filename, 'r') as file:\n",
    "    lines = file.readline().splitlines()\n",
    "    for line in lines[-n:]:\n",
    "        print(line)"
   ]
  },
  {
   "cell_type": "code",
   "execution_count": 15,
   "id": "9963076f",
   "metadata": {},
   "outputs": [
    {
     "name": "stdout",
     "output_type": "stream",
     "text": [
      "The file contains 100 words\n"
     ]
    }
   ],
   "source": [
    "##question 4\n",
    "file_name = 'python.txt'\n",
    "with open(filename, 'r') as file:\n",
    "    word_count = 0\n",
    "    unique_words = set()\n",
    "    for line in file:\n",
    "        words = line.split()\n",
    "        word_count += len(words)\n",
    "    print(\"The file contains\", word_count, \"words\")"
   ]
  },
  {
   "cell_type": "code",
   "execution_count": null,
   "id": "cb0fb365",
   "metadata": {},
   "outputs": [],
   "source": []
  }
 ],
 "metadata": {
  "kernelspec": {
   "display_name": "Python 3 (ipykernel)",
   "language": "python",
   "name": "python3"
  },
  "language_info": {
   "codemirror_mode": {
    "name": "ipython",
    "version": 3
   },
   "file_extension": ".py",
   "mimetype": "text/x-python",
   "name": "python",
   "nbconvert_exporter": "python",
   "pygments_lexer": "ipython3",
   "version": "3.9.13"
  }
 },
 "nbformat": 4,
 "nbformat_minor": 5
}
